{
 "cells": [
  {
   "cell_type": "markdown",
   "metadata": {},
   "source": [
    "# Experimentation Notebook\n",
    "\n",
    "In this notebook we complete the experimentation process data scientists would preform to create a model. The [dataset](../datasets/covertype/README.md) used is based on **Covertype Data Set** from UCI Machine Learning Repository.\n",
    "\n",
    "The training code uses `scikit-learn` for data pre-processing and modeling."
   ]
  },
  {
   "cell_type": "markdown",
   "metadata": {},
   "source": [
    "## Imports"
   ]
  },
  {
   "cell_type": "code",
   "execution_count": 33,
   "metadata": {},
   "outputs": [],
   "source": [
    "import json\n",
    "import numpy as np\n",
    "import pandas as pd\n",
    "import pickle\n",
    "import uuid\n",
    "import time\n",
    "import seaborn as sns\n",
    "import matplotlib.pyplot as plt\n",
    "\n",
    "from jinja2 import Template\n",
    "from typing import NamedTuple\n",
    "\n",
    "from sklearn.metrics import accuracy_score\n",
    "from sklearn.linear_model import SGDClassifier\n",
    "from sklearn.pipeline import Pipeline\n",
    "from sklearn.preprocessing import StandardScaler, OneHotEncoder\n",
    "from sklearn.compose import ColumnTransformer\n",
    "\n",
    "import warnings\n",
    "warnings.filterwarnings('ignore')"
   ]
  },
  {
   "cell_type": "markdown",
   "metadata": {},
   "source": [
    "## Data Import\n",
    "This demo uses data from an open source database which is stored in a public bucket.  "
   ]
  },
  {
   "cell_type": "code",
   "execution_count": 34,
   "metadata": {},
   "outputs": [],
   "source": [
    "DATA_ROOT = 'gs://workshop-datasets/covertype'\n",
    "TRAINING_FILE_PATH = DATA_ROOT + '/training/dataset.csv'\n",
    "VALIDATION_FILE_PATH = DATA_ROOT + '/evaluation/dataset.csv'"
   ]
  },
  {
   "cell_type": "code",
   "execution_count": 35,
   "metadata": {},
   "outputs": [],
   "source": [
    "df_train = pd.read_csv(TRAINING_FILE_PATH)\n",
    "df_validation = pd.read_csv(VALIDATION_FILE_PATH)"
   ]
  },
  {
   "cell_type": "markdown",
   "metadata": {},
   "source": [
    "## Explore the Covertype dataset "
   ]
  },
  {
   "cell_type": "code",
   "execution_count": 36,
   "metadata": {},
   "outputs": [
    {
     "data": {
      "text/html": [
       "<div>\n",
       "<style scoped>\n",
       "    .dataframe tbody tr th:only-of-type {\n",
       "        vertical-align: middle;\n",
       "    }\n",
       "\n",
       "    .dataframe tbody tr th {\n",
       "        vertical-align: top;\n",
       "    }\n",
       "\n",
       "    .dataframe thead th {\n",
       "        text-align: right;\n",
       "    }\n",
       "</style>\n",
       "<table border=\"1\" class=\"dataframe\">\n",
       "  <thead>\n",
       "    <tr style=\"text-align: right;\">\n",
       "      <th></th>\n",
       "      <th>Elevation</th>\n",
       "      <th>Aspect</th>\n",
       "      <th>Slope</th>\n",
       "      <th>Horizontal_Distance_To_Hydrology</th>\n",
       "      <th>Vertical_Distance_To_Hydrology</th>\n",
       "      <th>Horizontal_Distance_To_Roadways</th>\n",
       "      <th>Hillshade_9am</th>\n",
       "      <th>Hillshade_Noon</th>\n",
       "      <th>Hillshade_3pm</th>\n",
       "      <th>Horizontal_Distance_To_Fire_Points</th>\n",
       "      <th>Wilderness_Area</th>\n",
       "      <th>Soil_Type</th>\n",
       "      <th>Cover_Type</th>\n",
       "    </tr>\n",
       "  </thead>\n",
       "  <tbody>\n",
       "    <tr>\n",
       "      <th>0</th>\n",
       "      <td>2989</td>\n",
       "      <td>329</td>\n",
       "      <td>11</td>\n",
       "      <td>342</td>\n",
       "      <td>74</td>\n",
       "      <td>2861</td>\n",
       "      <td>194</td>\n",
       "      <td>227</td>\n",
       "      <td>172</td>\n",
       "      <td>1471</td>\n",
       "      <td>Commanche</td>\n",
       "      <td>C7756</td>\n",
       "      <td>2</td>\n",
       "    </tr>\n",
       "    <tr>\n",
       "      <th>1</th>\n",
       "      <td>3223</td>\n",
       "      <td>264</td>\n",
       "      <td>7</td>\n",
       "      <td>228</td>\n",
       "      <td>41</td>\n",
       "      <td>968</td>\n",
       "      <td>203</td>\n",
       "      <td>243</td>\n",
       "      <td>179</td>\n",
       "      <td>190</td>\n",
       "      <td>Commanche</td>\n",
       "      <td>C7756</td>\n",
       "      <td>1</td>\n",
       "    </tr>\n",
       "    <tr>\n",
       "      <th>2</th>\n",
       "      <td>3208</td>\n",
       "      <td>322</td>\n",
       "      <td>22</td>\n",
       "      <td>162</td>\n",
       "      <td>13</td>\n",
       "      <td>2876</td>\n",
       "      <td>158</td>\n",
       "      <td>212</td>\n",
       "      <td>191</td>\n",
       "      <td>2486</td>\n",
       "      <td>Rawah</td>\n",
       "      <td>C7745</td>\n",
       "      <td>1</td>\n",
       "    </tr>\n",
       "    <tr>\n",
       "      <th>3</th>\n",
       "      <td>3041</td>\n",
       "      <td>52</td>\n",
       "      <td>11</td>\n",
       "      <td>67</td>\n",
       "      <td>4</td>\n",
       "      <td>2467</td>\n",
       "      <td>226</td>\n",
       "      <td>217</td>\n",
       "      <td>124</td>\n",
       "      <td>3036</td>\n",
       "      <td>Commanche</td>\n",
       "      <td>C7700</td>\n",
       "      <td>2</td>\n",
       "    </tr>\n",
       "    <tr>\n",
       "      <th>4</th>\n",
       "      <td>2988</td>\n",
       "      <td>259</td>\n",
       "      <td>28</td>\n",
       "      <td>242</td>\n",
       "      <td>75</td>\n",
       "      <td>5197</td>\n",
       "      <td>143</td>\n",
       "      <td>242</td>\n",
       "      <td>231</td>\n",
       "      <td>1425</td>\n",
       "      <td>Rawah</td>\n",
       "      <td>C7745</td>\n",
       "      <td>2</td>\n",
       "    </tr>\n",
       "    <tr>\n",
       "      <th>...</th>\n",
       "      <td>...</td>\n",
       "      <td>...</td>\n",
       "      <td>...</td>\n",
       "      <td>...</td>\n",
       "      <td>...</td>\n",
       "      <td>...</td>\n",
       "      <td>...</td>\n",
       "      <td>...</td>\n",
       "      <td>...</td>\n",
       "      <td>...</td>\n",
       "      <td>...</td>\n",
       "      <td>...</td>\n",
       "      <td>...</td>\n",
       "    </tr>\n",
       "    <tr>\n",
       "      <th>431004</th>\n",
       "      <td>2476</td>\n",
       "      <td>67</td>\n",
       "      <td>31</td>\n",
       "      <td>268</td>\n",
       "      <td>122</td>\n",
       "      <td>666</td>\n",
       "      <td>233</td>\n",
       "      <td>163</td>\n",
       "      <td>39</td>\n",
       "      <td>721</td>\n",
       "      <td>Commanche</td>\n",
       "      <td>C4703</td>\n",
       "      <td>2</td>\n",
       "    </tr>\n",
       "    <tr>\n",
       "      <th>431005</th>\n",
       "      <td>3029</td>\n",
       "      <td>130</td>\n",
       "      <td>7</td>\n",
       "      <td>30</td>\n",
       "      <td>4</td>\n",
       "      <td>3266</td>\n",
       "      <td>233</td>\n",
       "      <td>236</td>\n",
       "      <td>136</td>\n",
       "      <td>5388</td>\n",
       "      <td>Rawah</td>\n",
       "      <td>C7102</td>\n",
       "      <td>2</td>\n",
       "    </tr>\n",
       "    <tr>\n",
       "      <th>431006</th>\n",
       "      <td>3017</td>\n",
       "      <td>107</td>\n",
       "      <td>9</td>\n",
       "      <td>242</td>\n",
       "      <td>46</td>\n",
       "      <td>4265</td>\n",
       "      <td>235</td>\n",
       "      <td>230</td>\n",
       "      <td>126</td>\n",
       "      <td>1052</td>\n",
       "      <td>Rawah</td>\n",
       "      <td>C7746</td>\n",
       "      <td>2</td>\n",
       "    </tr>\n",
       "    <tr>\n",
       "      <th>431007</th>\n",
       "      <td>3314</td>\n",
       "      <td>144</td>\n",
       "      <td>16</td>\n",
       "      <td>362</td>\n",
       "      <td>56</td>\n",
       "      <td>1549</td>\n",
       "      <td>241</td>\n",
       "      <td>235</td>\n",
       "      <td>119</td>\n",
       "      <td>2911</td>\n",
       "      <td>Rawah</td>\n",
       "      <td>C7745</td>\n",
       "      <td>1</td>\n",
       "    </tr>\n",
       "    <tr>\n",
       "      <th>431008</th>\n",
       "      <td>3071</td>\n",
       "      <td>12</td>\n",
       "      <td>18</td>\n",
       "      <td>497</td>\n",
       "      <td>28</td>\n",
       "      <td>1153</td>\n",
       "      <td>199</td>\n",
       "      <td>201</td>\n",
       "      <td>135</td>\n",
       "      <td>2008</td>\n",
       "      <td>Commanche</td>\n",
       "      <td>C7700</td>\n",
       "      <td>1</td>\n",
       "    </tr>\n",
       "  </tbody>\n",
       "</table>\n",
       "<p>431009 rows × 13 columns</p>\n",
       "</div>"
      ],
      "text/plain": [
       "        Elevation  Aspect  Slope  Horizontal_Distance_To_Hydrology  \\\n",
       "0            2989     329     11                               342   \n",
       "1            3223     264      7                               228   \n",
       "2            3208     322     22                               162   \n",
       "3            3041      52     11                                67   \n",
       "4            2988     259     28                               242   \n",
       "...           ...     ...    ...                               ...   \n",
       "431004       2476      67     31                               268   \n",
       "431005       3029     130      7                                30   \n",
       "431006       3017     107      9                               242   \n",
       "431007       3314     144     16                               362   \n",
       "431008       3071      12     18                               497   \n",
       "\n",
       "        Vertical_Distance_To_Hydrology  Horizontal_Distance_To_Roadways  \\\n",
       "0                                   74                             2861   \n",
       "1                                   41                              968   \n",
       "2                                   13                             2876   \n",
       "3                                    4                             2467   \n",
       "4                                   75                             5197   \n",
       "...                                ...                              ...   \n",
       "431004                             122                              666   \n",
       "431005                               4                             3266   \n",
       "431006                              46                             4265   \n",
       "431007                              56                             1549   \n",
       "431008                              28                             1153   \n",
       "\n",
       "        Hillshade_9am  Hillshade_Noon  Hillshade_3pm  \\\n",
       "0                 194             227            172   \n",
       "1                 203             243            179   \n",
       "2                 158             212            191   \n",
       "3                 226             217            124   \n",
       "4                 143             242            231   \n",
       "...               ...             ...            ...   \n",
       "431004            233             163             39   \n",
       "431005            233             236            136   \n",
       "431006            235             230            126   \n",
       "431007            241             235            119   \n",
       "431008            199             201            135   \n",
       "\n",
       "        Horizontal_Distance_To_Fire_Points Wilderness_Area Soil_Type  \\\n",
       "0                                     1471       Commanche     C7756   \n",
       "1                                      190       Commanche     C7756   \n",
       "2                                     2486           Rawah     C7745   \n",
       "3                                     3036       Commanche     C7700   \n",
       "4                                     1425           Rawah     C7745   \n",
       "...                                    ...             ...       ...   \n",
       "431004                                 721       Commanche     C4703   \n",
       "431005                                5388           Rawah     C7102   \n",
       "431006                                1052           Rawah     C7746   \n",
       "431007                                2911           Rawah     C7745   \n",
       "431008                                2008       Commanche     C7700   \n",
       "\n",
       "        Cover_Type  \n",
       "0                2  \n",
       "1                1  \n",
       "2                1  \n",
       "3                2  \n",
       "4                2  \n",
       "...            ...  \n",
       "431004           2  \n",
       "431005           2  \n",
       "431006           2  \n",
       "431007           1  \n",
       "431008           1  \n",
       "\n",
       "[431009 rows x 13 columns]"
      ]
     },
     "execution_count": 36,
     "metadata": {},
     "output_type": "execute_result"
    }
   ],
   "source": [
    "df_train"
   ]
  },
  {
   "cell_type": "code",
   "execution_count": 37,
   "metadata": {},
   "outputs": [
    {
     "name": "stdout",
     "output_type": "stream",
     "text": [
      "(431009, 13)\n",
      "(75000, 13)\n"
     ]
    }
   ],
   "source": [
    "print(df_train.shape)\n",
    "print(df_validation.shape)"
   ]
  },
  {
   "cell_type": "markdown",
   "metadata": {},
   "source": [
    "### Visualize Data \n",
    "\n",
    "Selected plots have been created to illustrate the data exploration and analysis process"
   ]
  },
  {
   "cell_type": "code",
   "execution_count": 38,
   "metadata": {},
   "outputs": [
    {
     "data": {
      "text/plain": [
       "<matplotlib.axes._subplots.AxesSubplot at 0x7f1faaab09e8>"
      ]
     },
     "execution_count": 38,
     "metadata": {},
     "output_type": "execute_result"
    },
    {
     "data": {
      "image/png": "[encoded data removed]",
      "text/plain": [
       "<Figure size 432x288 with 1 Axes>"
      ]
     },
     "metadata": {
      "needs_background": "light"
     },
     "output_type": "display_data"
    }
   ],
   "source": [
    "sns.violinplot(data=df_train,x='Cover_Type', y='Wilderness_Area')"
   ]
  },
  {
   "cell_type": "code",
   "execution_count": 29,
   "metadata": {},
   "outputs": [
    {
     "data": {
      "text/plain": [
       "<matplotlib.axes._subplots.AxesSubplot at 0x7f1faab3fc50>"
      ]
     },
     "execution_count": 29,
     "metadata": {},
     "output_type": "execute_result"
    },
    {
     "data": {
      "image/png": "[encoded data removed]",
      "text/plain": [
       "<Figure size 432x288 with 1 Axes>"
      ]
     },
     "metadata": {
      "needs_background": "light"
     },
     "output_type": "display_data"
    }
   ],
   "source": [
    "sns.violinplot(data=df_train,x='Cover_Type', y='Elevation')  "
   ]
  },
  {
   "cell_type": "markdown",
   "metadata": {},
   "source": [
    "## Develop the training application"
   ]
  },
  {
   "cell_type": "markdown",
   "metadata": {},
   "source": [
    "### Configure the `sklearn` training pipeline.\n",
    "\n",
    "The training pipeline preprocesses data by standardizing all numeric features using `sklearn.preprocessing.StandardScaler` and encoding all categorical features using `sklearn.preprocessing.OneHotEncoder`. It uses stochastic gradient descent linear classifier (`SGDClassifier`) for modeling."
   ]
  },
  {
   "cell_type": "code",
   "execution_count": 30,
   "metadata": {},
   "outputs": [],
   "source": [
    "numeric_feature_indexes = slice(0, 10)\n",
    "categorical_feature_indexes = slice(10, 12)\n",
    "\n",
    "preprocessor = ColumnTransformer(\n",
    "    transformers=[\n",
    "        ('num', StandardScaler(), numeric_feature_indexes),\n",
    "        ('cat', OneHotEncoder(), categorical_feature_indexes) \n",
    "    ])\n",
    "\n",
    "pipeline = Pipeline([\n",
    "    ('preprocessor', preprocessor),\n",
    "    ('classifier', SGDClassifier(loss='log'))\n",
    "])"
   ]
  },
  {
   "cell_type": "markdown",
   "metadata": {},
   "source": [
    "### Convert all numeric features to `float64`\n",
    "\n",
    "To avoid warning messages from `StandardScaler` all numeric features are converted to `float64`."
   ]
  },
  {
   "cell_type": "code",
   "execution_count": 31,
   "metadata": {},
   "outputs": [],
   "source": [
    "num_features_type_map = {feature: 'float64' for feature in df_train.columns[numeric_feature_indexes]}\n",
    "\n",
    "df_train = df_train.astype(num_features_type_map)\n",
    "df_validation = df_validation.astype(num_features_type_map)"
   ]
  },
  {
   "cell_type": "markdown",
   "metadata": {},
   "source": [
    "### Run the pipeline locally."
   ]
  },
  {
   "cell_type": "code",
   "execution_count": null,
   "metadata": {},
   "outputs": [],
   "source": [
    "X_train = df_train.drop('Cover_Type', axis=1)\n",
    "y_train = df_train['Cover_Type']\n",
    "X_validation = df_validation.drop('Cover_Type', axis=1)\n",
    "y_validation = df_validation['Cover_Type']\n",
    "\n",
    "pipeline.set_params(classifier__alpha=0.001, classifier__max_iter=200)\n",
    "pipeline.fit(X_train, y_train)"
   ]
  },
  {
   "cell_type": "markdown",
   "metadata": {},
   "source": [
    "### Calculate the trained model's accuracy.\n",
    "This model has an accuracy of ~70% which is pretty good for a 7 category classification problem. New features and different models could be tested to potentially develop a model with better performance. However for this excersies this is sufficient. "
   ]
  },
  {
   "cell_type": "code",
   "execution_count": null,
   "metadata": {},
   "outputs": [],
   "source": [
    "accuracy = pipeline.score(X_validation, y_validation)\n",
    "print(accuracy)"
   ]
  },
  {
   "cell_type": "markdown",
   "metadata": {},
   "source": [
    "# Next: Productionising the model"
   ]
  },
  {
   "cell_type": "markdown",
   "metadata": {},
   "source": [
    "Now that we are happy with the models performance, we want to productionise the model"
   ]
  }
 ],
 "metadata": {
  "kernelspec": {
   "display_name": "Python 3",
   "language": "python",
   "name": "python3"
  },
  "language_info": {
   "codemirror_mode": {
    "name": "ipython",
    "version": 3
   },
   "file_extension": ".py",
   "mimetype": "text/x-python",
   "name": "python",
   "nbconvert_exporter": "python",
   "pygments_lexer": "ipython3",
   "version": "3.5.6"
  }
 },
 "nbformat": 4,
 "nbformat_minor": 4
}
