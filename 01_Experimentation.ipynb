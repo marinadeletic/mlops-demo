{
 "cells": [
  {
   "cell_type": "markdown",
   "metadata": {},
   "source": [
    "# Experimentation Notebook\n",
    "\n",
    "In this notebook we complete the experimentation process data scientists would preform to create a model. The [dataset](../datasets/covertype/README.md) used is based on **Covertype Data Set** from UCI Machine Learning Repository.\n",
    "\n",
    "The training code uses `scikit-learn` for data pre-processing and modeling."
   ]
  },
  {
   "cell_type": "markdown",
   "metadata": {},
   "source": [
    "## Imports"
   ]
  },
  {
   "cell_type": "code",
   "execution_count": 1,
   "metadata": {},
   "outputs": [],
   "source": [
    "import json\n",
    "import numpy as np\n",
    "import pandas as pd\n",
    "import pickle\n",
    "import uuid\n",
    "import time\n",
    "import seaborn as sns\n",
    "import matplotlib.pyplot as plt\n",
    "\n",
    "from jinja2 import Template\n",
    "from typing import NamedTuple\n",
    "\n",
    "from sklearn.metrics import accuracy_score\n",
    "from sklearn.linear_model import SGDClassifier\n",
    "from sklearn.pipeline import Pipeline\n",
    "from sklearn.preprocessing import StandardScaler, OneHotEncoder\n",
    "from sklearn.compose import ColumnTransformer\n",
    "\n",
    "import warnings\n",
    "warnings.filterwarnings('ignore')"
   ]
  },
  {
   "cell_type": "markdown",
   "metadata": {},
   "source": [
    "## Data Import\n",
    "This demo uses data from an open source database which is stored in a public bucket.  "
   ]
  },
  {
   "cell_type": "code",
   "execution_count": 12,
   "metadata": {},
   "outputs": [],
   "source": [
    "DATA_ROOT = 'gs://workshop-datasets/covertype'\n",
    "TRAINING_FILE_PATH = DATA_ROOT + '/data_validation/training/dataset.csv'\n",
    "VALIDATION_FILE_PATH = DATA_ROOT + '/data_validation/evaluation/dataset.csv'"
   ]
  },
  {
   "cell_type": "code",
   "execution_count": 13,
   "metadata": {},
   "outputs": [],
   "source": [
    "df_train = pd.read_csv(TRAINING_FILE_PATH)\n",
    "df_validation = pd.read_csv(VALIDATION_FILE_PATH)"
   ]
  },
  {
   "cell_type": "markdown",
   "metadata": {},
   "source": [
    "## Explore the Covertype dataset "
   ]
  },
  {
   "cell_type": "code",
   "execution_count": 14,
   "metadata": {},
   "outputs": [
    {
     "data": {
      "text/html": [
       "<div>\n",
       "<style scoped>\n",
       "    .dataframe tbody tr th:only-of-type {\n",
       "        vertical-align: middle;\n",
       "    }\n",
       "\n",
       "    .dataframe tbody tr th {\n",
       "        vertical-align: top;\n",
       "    }\n",
       "\n",
       "    .dataframe thead th {\n",
       "        text-align: right;\n",
       "    }\n",
       "</style>\n",
       "<table border=\"1\" class=\"dataframe\">\n",
       "  <thead>\n",
       "    <tr style=\"text-align: right;\">\n",
       "      <th></th>\n",
       "      <th>Elevation</th>\n",
       "      <th>Aspect</th>\n",
       "      <th>Slope</th>\n",
       "      <th>Horizontal_Distance_To_Hydrology</th>\n",
       "      <th>Vertical_Distance_To_Hydrology</th>\n",
       "      <th>Horizontal_Distance_To_Roadways</th>\n",
       "      <th>Hillshade_9am</th>\n",
       "      <th>Hillshade_Noon</th>\n",
       "      <th>Hillshade_3pm</th>\n",
       "      <th>Horizontal_Distance_To_Fire_Points</th>\n",
       "      <th>Wilderness_Area</th>\n",
       "      <th>Soil_Type</th>\n",
       "      <th>Cover_Type</th>\n",
       "    </tr>\n",
       "  </thead>\n",
       "  <tbody>\n",
       "    <tr>\n",
       "      <th>0</th>\n",
       "      <td>3034</td>\n",
       "      <td>235</td>\n",
       "      <td>13</td>\n",
       "      <td>655</td>\n",
       "      <td>134</td>\n",
       "      <td>5799</td>\n",
       "      <td>197</td>\n",
       "      <td>251</td>\n",
       "      <td>190</td>\n",
       "      <td>4094</td>\n",
       "      <td>Rawah</td>\n",
       "      <td>7745</td>\n",
       "      <td>1</td>\n",
       "    </tr>\n",
       "    <tr>\n",
       "      <th>1</th>\n",
       "      <td>2827</td>\n",
       "      <td>26</td>\n",
       "      <td>16</td>\n",
       "      <td>85</td>\n",
       "      <td>13</td>\n",
       "      <td>3511</td>\n",
       "      <td>211</td>\n",
       "      <td>204</td>\n",
       "      <td>125</td>\n",
       "      <td>6008</td>\n",
       "      <td>Rawah</td>\n",
       "      <td>7745</td>\n",
       "      <td>1</td>\n",
       "    </tr>\n",
       "    <tr>\n",
       "      <th>2</th>\n",
       "      <td>2854</td>\n",
       "      <td>27</td>\n",
       "      <td>12</td>\n",
       "      <td>484</td>\n",
       "      <td>22</td>\n",
       "      <td>618</td>\n",
       "      <td>215</td>\n",
       "      <td>214</td>\n",
       "      <td>134</td>\n",
       "      <td>1295</td>\n",
       "      <td>Commanche</td>\n",
       "      <td>4704</td>\n",
       "      <td>1</td>\n",
       "    </tr>\n",
       "    <tr>\n",
       "      <th>3</th>\n",
       "      <td>3188</td>\n",
       "      <td>156</td>\n",
       "      <td>13</td>\n",
       "      <td>175</td>\n",
       "      <td>28</td>\n",
       "      <td>3666</td>\n",
       "      <td>235</td>\n",
       "      <td>241</td>\n",
       "      <td>134</td>\n",
       "      <td>1719</td>\n",
       "      <td>Commanche</td>\n",
       "      <td>7756</td>\n",
       "      <td>1</td>\n",
       "    </tr>\n",
       "    <tr>\n",
       "      <th>4</th>\n",
       "      <td>3091</td>\n",
       "      <td>61</td>\n",
       "      <td>8</td>\n",
       "      <td>134</td>\n",
       "      <td>10</td>\n",
       "      <td>1390</td>\n",
       "      <td>227</td>\n",
       "      <td>223</td>\n",
       "      <td>129</td>\n",
       "      <td>2868</td>\n",
       "      <td>Commanche</td>\n",
       "      <td>7202</td>\n",
       "      <td>0</td>\n",
       "    </tr>\n",
       "    <tr>\n",
       "      <th>...</th>\n",
       "      <td>...</td>\n",
       "      <td>...</td>\n",
       "      <td>...</td>\n",
       "      <td>...</td>\n",
       "      <td>...</td>\n",
       "      <td>...</td>\n",
       "      <td>...</td>\n",
       "      <td>...</td>\n",
       "      <td>...</td>\n",
       "      <td>...</td>\n",
       "      <td>...</td>\n",
       "      <td>...</td>\n",
       "      <td>...</td>\n",
       "    </tr>\n",
       "    <tr>\n",
       "      <th>431004</th>\n",
       "      <td>3049</td>\n",
       "      <td>290</td>\n",
       "      <td>5</td>\n",
       "      <td>663</td>\n",
       "      <td>32</td>\n",
       "      <td>1380</td>\n",
       "      <td>206</td>\n",
       "      <td>239</td>\n",
       "      <td>172</td>\n",
       "      <td>787</td>\n",
       "      <td>Commanche</td>\n",
       "      <td>7101</td>\n",
       "      <td>1</td>\n",
       "    </tr>\n",
       "    <tr>\n",
       "      <th>431005</th>\n",
       "      <td>2776</td>\n",
       "      <td>43</td>\n",
       "      <td>13</td>\n",
       "      <td>60</td>\n",
       "      <td>-10</td>\n",
       "      <td>2737</td>\n",
       "      <td>222</td>\n",
       "      <td>212</td>\n",
       "      <td>122</td>\n",
       "      <td>2002</td>\n",
       "      <td>Commanche</td>\n",
       "      <td>7700</td>\n",
       "      <td>1</td>\n",
       "    </tr>\n",
       "    <tr>\n",
       "      <th>431006</th>\n",
       "      <td>2970</td>\n",
       "      <td>61</td>\n",
       "      <td>21</td>\n",
       "      <td>365</td>\n",
       "      <td>175</td>\n",
       "      <td>390</td>\n",
       "      <td>232</td>\n",
       "      <td>191</td>\n",
       "      <td>82</td>\n",
       "      <td>1377</td>\n",
       "      <td>Rawah</td>\n",
       "      <td>7745</td>\n",
       "      <td>0</td>\n",
       "    </tr>\n",
       "    <tr>\n",
       "      <th>431007</th>\n",
       "      <td>2975</td>\n",
       "      <td>7</td>\n",
       "      <td>10</td>\n",
       "      <td>272</td>\n",
       "      <td>76</td>\n",
       "      <td>3421</td>\n",
       "      <td>208</td>\n",
       "      <td>221</td>\n",
       "      <td>150</td>\n",
       "      <td>2056</td>\n",
       "      <td>Rawah</td>\n",
       "      <td>7745</td>\n",
       "      <td>1</td>\n",
       "    </tr>\n",
       "    <tr>\n",
       "      <th>431008</th>\n",
       "      <td>3041</td>\n",
       "      <td>0</td>\n",
       "      <td>7</td>\n",
       "      <td>516</td>\n",
       "      <td>69</td>\n",
       "      <td>5563</td>\n",
       "      <td>210</td>\n",
       "      <td>228</td>\n",
       "      <td>155</td>\n",
       "      <td>3868</td>\n",
       "      <td>Rawah</td>\n",
       "      <td>7745</td>\n",
       "      <td>0</td>\n",
       "    </tr>\n",
       "  </tbody>\n",
       "</table>\n",
       "<p>431009 rows × 13 columns</p>\n",
       "</div>"
      ],
      "text/plain": [
       "        Elevation  Aspect  Slope  Horizontal_Distance_To_Hydrology  \\\n",
       "0            3034     235     13                               655   \n",
       "1            2827      26     16                                85   \n",
       "2            2854      27     12                               484   \n",
       "3            3188     156     13                               175   \n",
       "4            3091      61      8                               134   \n",
       "...           ...     ...    ...                               ...   \n",
       "431004       3049     290      5                               663   \n",
       "431005       2776      43     13                                60   \n",
       "431006       2970      61     21                               365   \n",
       "431007       2975       7     10                               272   \n",
       "431008       3041       0      7                               516   \n",
       "\n",
       "        Vertical_Distance_To_Hydrology  Horizontal_Distance_To_Roadways  \\\n",
       "0                                  134                             5799   \n",
       "1                                   13                             3511   \n",
       "2                                   22                              618   \n",
       "3                                   28                             3666   \n",
       "4                                   10                             1390   \n",
       "...                                ...                              ...   \n",
       "431004                              32                             1380   \n",
       "431005                             -10                             2737   \n",
       "431006                             175                              390   \n",
       "431007                              76                             3421   \n",
       "431008                              69                             5563   \n",
       "\n",
       "        Hillshade_9am  Hillshade_Noon  Hillshade_3pm  \\\n",
       "0                 197             251            190   \n",
       "1                 211             204            125   \n",
       "2                 215             214            134   \n",
       "3                 235             241            134   \n",
       "4                 227             223            129   \n",
       "...               ...             ...            ...   \n",
       "431004            206             239            172   \n",
       "431005            222             212            122   \n",
       "431006            232             191             82   \n",
       "431007            208             221            150   \n",
       "431008            210             228            155   \n",
       "\n",
       "        Horizontal_Distance_To_Fire_Points Wilderness_Area  Soil_Type  \\\n",
       "0                                     4094           Rawah       7745   \n",
       "1                                     6008           Rawah       7745   \n",
       "2                                     1295       Commanche       4704   \n",
       "3                                     1719       Commanche       7756   \n",
       "4                                     2868       Commanche       7202   \n",
       "...                                    ...             ...        ...   \n",
       "431004                                 787       Commanche       7101   \n",
       "431005                                2002       Commanche       7700   \n",
       "431006                                1377           Rawah       7745   \n",
       "431007                                2056           Rawah       7745   \n",
       "431008                                3868           Rawah       7745   \n",
       "\n",
       "        Cover_Type  \n",
       "0                1  \n",
       "1                1  \n",
       "2                1  \n",
       "3                1  \n",
       "4                0  \n",
       "...            ...  \n",
       "431004           1  \n",
       "431005           1  \n",
       "431006           0  \n",
       "431007           1  \n",
       "431008           0  \n",
       "\n",
       "[431009 rows x 13 columns]"
      ]
     },
     "execution_count": 14,
     "metadata": {},
     "output_type": "execute_result"
    }
   ],
   "source": [
    "df_train"
   ]
  },
  {
   "cell_type": "code",
   "execution_count": 5,
   "metadata": {},
   "outputs": [
    {
     "name": "stdout",
     "output_type": "stream",
     "text": [
      "(431009, 13)\n",
      "(75000, 13)\n"
     ]
    }
   ],
   "source": [
    "print(df_train.shape)\n",
    "print(df_validation.shape)"
   ]
  },
  {
   "cell_type": "markdown",
   "metadata": {},
   "source": [
    "### Visualize Data \n",
    "\n",
    "Selected plots have been created to illustrate the data exploration and analysis process"
   ]
  },
  {
   "cell_type": "code",
   "execution_count": 6,
   "metadata": {},
   "outputs": [
    {
     "data": {
      "text/plain": [
       "<matplotlib.axes._subplots.AxesSubplot at 0x7fcf68a42400>"
      ]
     },
     "execution_count": 6,
     "metadata": {},
     "output_type": "execute_result"
    },
    {
     "data": {
      "image/png": "[encoded data removed]",
      "text/plain": [
       "<Figure size 432x288 with 1 Axes>"
      ]
     },
     "metadata": {
      "needs_background": "light"
     },
     "output_type": "display_data"
    }
   ],
   "source": [
    "sns.violinplot(data=df_train,x='Cover_Type', y='Wilderness_Area')"
   ]
  },
  {
   "cell_type": "code",
   "execution_count": 7,
   "metadata": {},
   "outputs": [
    {
     "data": {
      "text/plain": [
       "<matplotlib.axes._subplots.AxesSubplot at 0x7fcf649bc9b0>"
      ]
     },
     "execution_count": 7,
     "metadata": {},
     "output_type": "execute_result"
    },
    {
     "data": {
      "image/png": "[encoded data removed]",
      "text/plain": [
       "<Figure size 432x288 with 1 Axes>"
      ]
     },
     "metadata": {
      "needs_background": "light"
     },
     "output_type": "display_data"
    }
   ],
   "source": [
    "sns.violinplot(data=df_train,x='Cover_Type', y='Elevation')  "
   ]
  },
  {
   "cell_type": "markdown",
   "metadata": {},
   "source": [
    "## Develop the training application"
   ]
  },
  {
   "cell_type": "markdown",
   "metadata": {},
   "source": [
    "### Configure the `sklearn` training pipeline.\n",
    "\n",
    "The training pipeline preprocesses data by standardizing all numeric features using `sklearn.preprocessing.StandardScaler` and encoding all categorical features using `sklearn.preprocessing.OneHotEncoder`. It uses stochastic gradient descent linear classifier (`SGDClassifier`) for modeling."
   ]
  },
  {
   "cell_type": "code",
   "execution_count": 8,
   "metadata": {},
   "outputs": [],
   "source": [
    "numeric_feature_indexes = slice(0, 10)\n",
    "categorical_feature_indexes = slice(10, 12)\n",
    "\n",
    "preprocessor = ColumnTransformer(\n",
    "    transformers=[\n",
    "        ('num', StandardScaler(), numeric_feature_indexes),\n",
    "        ('cat', OneHotEncoder(), categorical_feature_indexes) \n",
    "    ])\n",
    "\n",
    "pipeline = Pipeline([\n",
    "    ('preprocessor', preprocessor),\n",
    "    ('classifier', SGDClassifier(loss='log'))\n",
    "])"
   ]
  },
  {
   "cell_type": "markdown",
   "metadata": {},
   "source": [
    "### Convert all numeric features to `float64`\n",
    "\n",
    "To avoid warning messages from `StandardScaler` all numeric features are converted to `float64`."
   ]
  },
  {
   "cell_type": "code",
   "execution_count": 9,
   "metadata": {},
   "outputs": [],
   "source": [
    "num_features_type_map = {feature: 'float64' for feature in df_train.columns[numeric_feature_indexes]}\n",
    "\n",
    "df_train = df_train.astype(num_features_type_map)\n",
    "df_validation = df_validation.astype(num_features_type_map)"
   ]
  },
  {
   "cell_type": "markdown",
   "metadata": {},
   "source": [
    "### Run the pipeline locally."
   ]
  },
  {
   "cell_type": "code",
   "execution_count": 10,
   "metadata": {},
   "outputs": [
    {
     "data": {
      "text/plain": [
       "Pipeline(memory=None,\n",
       "     steps=[('preprocessor', ColumnTransformer(n_jobs=None, remainder='drop', sparse_threshold=0.3,\n",
       "         transformer_weights=None,\n",
       "         transformers=[('num', StandardScaler(copy=True, with_mean=True, with_std=True), slice(0, 10, None)), ('cat', OneHotEncoder(categorical_features=None, categories=...m_state=None, shuffle=True, tol=None,\n",
       "       validation_fraction=0.1, verbose=0, warm_start=False))])"
      ]
     },
     "execution_count": 10,
     "metadata": {},
     "output_type": "execute_result"
    }
   ],
   "source": [
    "X_train = df_train.drop('Cover_Type', axis=1)\n",
    "y_train = df_train['Cover_Type']\n",
    "X_validation = df_validation.drop('Cover_Type', axis=1)\n",
    "y_validation = df_validation['Cover_Type']\n",
    "\n",
    "pipeline.set_params(classifier__alpha=0.001, classifier__max_iter=200)\n",
    "pipeline.fit(X_train, y_train)"
   ]
  },
  {
   "cell_type": "markdown",
   "metadata": {},
   "source": [
    "### Calculate the trained model's accuracy.\n",
    "This model has an accuracy of ~70% which is pretty good for a 7 category classification problem. New features and different models could be tested to potentially develop a model with better performance. However for this excersies this is sufficient. "
   ]
  },
  {
   "cell_type": "code",
   "execution_count": 11,
   "metadata": {},
   "outputs": [
    {
     "name": "stdout",
     "output_type": "stream",
     "text": [
      "0.7050666666666666\n"
     ]
    }
   ],
   "source": [
    "accuracy = pipeline.score(X_validation, y_validation)\n",
    "print(accuracy)"
   ]
  },
  {
   "cell_type": "markdown",
   "metadata": {},
   "source": [
    "# Next: Productionising the model"
   ]
  },
  {
   "cell_type": "markdown",
   "metadata": {},
   "source": [
    "Now that we are happy with the models performance, we want to productionise the model"
   ]
  }
 ],
 "metadata": {
  "kernelspec": {
   "display_name": "Python 3",
   "language": "python",
   "name": "python3"
  },
  "language_info": {
   "codemirror_mode": {
    "name": "ipython",
    "version": 3
   },
   "file_extension": ".py",
   "mimetype": "text/x-python",
   "name": "python",
   "nbconvert_exporter": "python",
   "pygments_lexer": "ipython3",
   "version": "3.5.6"
  }
 },
 "nbformat": 4,
 "nbformat_minor": 4
}
